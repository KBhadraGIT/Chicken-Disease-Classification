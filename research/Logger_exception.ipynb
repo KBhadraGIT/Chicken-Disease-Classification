{
 "cells": [
  {
   "cell_type": "code",
   "execution_count": 2,
   "metadata": {},
   "outputs": [],
   "source": [
    "from chicken_disease import *"
   ]
  },
  {
   "cell_type": "code",
   "execution_count": 3,
   "metadata": {},
   "outputs": [],
   "source": [
    "a = 5\n",
    "b = 0"
   ]
  },
  {
   "cell_type": "code",
   "execution_count": 4,
   "metadata": {},
   "outputs": [
    {
     "ename": "CDCException",
     "evalue": "Error occurred python script name [C:\\Users\\KUSHAL\\AppData\\Local\\Temp\\ipykernel_17684\\4093834336.py] line number [2] error message [division by zero]",
     "output_type": "error",
     "traceback": [
      "\u001b[1;31m---------------------------------------------------------------------------\u001b[0m",
      "\u001b[1;31mZeroDivisionError\u001b[0m                         Traceback (most recent call last)",
      "Cell \u001b[1;32mIn[4], line 2\u001b[0m\n\u001b[0;32m      1\u001b[0m \u001b[39mtry\u001b[39;00m:\n\u001b[1;32m----> 2\u001b[0m     c \u001b[39m=\u001b[39m a\u001b[39m/\u001b[39;49mb\n\u001b[0;32m      3\u001b[0m     logger\u001b[39m.\u001b[39minfo(\u001b[39m\"\u001b[39m\u001b[39mc =\u001b[39m\u001b[39m\"\u001b[39m, c)\n",
      "\u001b[1;31mZeroDivisionError\u001b[0m: division by zero",
      "\nDuring handling of the above exception, another exception occurred:\n",
      "\u001b[1;31mCDCException\u001b[0m                              Traceback (most recent call last)",
      "Cell \u001b[1;32mIn[4], line 6\u001b[0m\n\u001b[0;32m      3\u001b[0m     logger\u001b[39m.\u001b[39minfo(\u001b[39m\"\u001b[39m\u001b[39mc =\u001b[39m\u001b[39m\"\u001b[39m, c)\n\u001b[0;32m      5\u001b[0m \u001b[39mexcept\u001b[39;00m \u001b[39mException\u001b[39;00m \u001b[39mas\u001b[39;00m e:\n\u001b[1;32m----> 6\u001b[0m     \u001b[39mraise\u001b[39;00m CDCException(error_message\u001b[39m=\u001b[39me, error_detail\u001b[39m=\u001b[39msys)\n",
      "\u001b[1;31mCDCException\u001b[0m: Error occurred python script name [C:\\Users\\KUSHAL\\AppData\\Local\\Temp\\ipykernel_17684\\4093834336.py] line number [2] error message [division by zero]"
     ]
    }
   ],
   "source": [
    "try:\n",
    "    c = a/b\n",
    "    logger.info(\"c =\", c)\n",
    "\n",
    "except Exception as e:\n",
    "    raise CDCException(error_message=e, error_detail=sys)"
   ]
  },
  {
   "cell_type": "code",
   "execution_count": 5,
   "metadata": {},
   "outputs": [
    {
     "name": "stderr",
     "output_type": "stream",
     "text": [
      "--- Logging error ---\n",
      "Traceback (most recent call last):\n",
      "  File \"e:\\Project\\MLOPs\\Chicken_disease_classification\\chicken\\lib\\logging\\__init__.py\", line 1081, in emit\n",
      "    msg = self.format(record)\n",
      "  File \"e:\\Project\\MLOPs\\Chicken_disease_classification\\chicken\\lib\\logging\\__init__.py\", line 925, in format\n",
      "    return fmt.format(record)\n",
      "  File \"e:\\Project\\MLOPs\\Chicken_disease_classification\\chicken\\lib\\logging\\__init__.py\", line 664, in format\n",
      "    record.message = record.getMessage()\n",
      "  File \"e:\\Project\\MLOPs\\Chicken_disease_classification\\chicken\\lib\\logging\\__init__.py\", line 369, in getMessage\n",
      "    msg = msg % self.args\n",
      "TypeError: not all arguments converted during string formatting\n",
      "Call stack:\n",
      "  File \"e:\\Project\\MLOPs\\Chicken_disease_classification\\chicken\\lib\\runpy.py\", line 192, in _run_module_as_main\n",
      "    return _run_code(code, main_globals, None,\n",
      "  File \"e:\\Project\\MLOPs\\Chicken_disease_classification\\chicken\\lib\\runpy.py\", line 85, in _run_code\n",
      "    exec(code, run_globals)\n",
      "  File \"e:\\Project\\MLOPs\\Chicken_disease_classification\\chicken\\lib\\site-packages\\ipykernel_launcher.py\", line 17, in <module>\n",
      "    app.launch_new_instance()\n",
      "  File \"e:\\Project\\MLOPs\\Chicken_disease_classification\\chicken\\lib\\site-packages\\traitlets\\config\\application.py\", line 1043, in launch_instance\n",
      "    app.start()\n",
      "  File \"e:\\Project\\MLOPs\\Chicken_disease_classification\\chicken\\lib\\site-packages\\ipykernel\\kernelapp.py\", line 725, in start\n",
      "    self.io_loop.start()\n",
      "  File \"e:\\Project\\MLOPs\\Chicken_disease_classification\\chicken\\lib\\site-packages\\tornado\\platform\\asyncio.py\", line 195, in start\n",
      "    self.asyncio_loop.run_forever()\n",
      "  File \"e:\\Project\\MLOPs\\Chicken_disease_classification\\chicken\\lib\\asyncio\\base_events.py\", line 563, in run_forever\n",
      "    self._run_once()\n",
      "  File \"e:\\Project\\MLOPs\\Chicken_disease_classification\\chicken\\lib\\asyncio\\base_events.py\", line 1844, in _run_once\n",
      "    handle._run()\n",
      "  File \"e:\\Project\\MLOPs\\Chicken_disease_classification\\chicken\\lib\\asyncio\\events.py\", line 81, in _run\n",
      "    self._context.run(self._callback, *self._args)\n",
      "  File \"e:\\Project\\MLOPs\\Chicken_disease_classification\\chicken\\lib\\site-packages\\ipykernel\\kernelbase.py\", line 513, in dispatch_queue\n",
      "    await self.process_one()\n",
      "  File \"e:\\Project\\MLOPs\\Chicken_disease_classification\\chicken\\lib\\site-packages\\ipykernel\\kernelbase.py\", line 502, in process_one\n",
      "    await dispatch(*args)\n",
      "  File \"e:\\Project\\MLOPs\\Chicken_disease_classification\\chicken\\lib\\site-packages\\ipykernel\\kernelbase.py\", line 409, in dispatch_shell\n",
      "    await result\n",
      "  File \"e:\\Project\\MLOPs\\Chicken_disease_classification\\chicken\\lib\\site-packages\\ipykernel\\kernelbase.py\", line 729, in execute_request\n",
      "    reply_content = await reply_content\n",
      "  File \"e:\\Project\\MLOPs\\Chicken_disease_classification\\chicken\\lib\\site-packages\\ipykernel\\ipkernel.py\", line 422, in do_execute\n",
      "    res = shell.run_cell(\n",
      "  File \"e:\\Project\\MLOPs\\Chicken_disease_classification\\chicken\\lib\\site-packages\\ipykernel\\zmqshell.py\", line 540, in run_cell\n",
      "    return super().run_cell(*args, **kwargs)\n",
      "  File \"e:\\Project\\MLOPs\\Chicken_disease_classification\\chicken\\lib\\site-packages\\IPython\\core\\interactiveshell.py\", line 3009, in run_cell\n",
      "    result = self._run_cell(\n",
      "  File \"e:\\Project\\MLOPs\\Chicken_disease_classification\\chicken\\lib\\site-packages\\IPython\\core\\interactiveshell.py\", line 3064, in _run_cell\n",
      "    result = runner(coro)\n",
      "  File \"e:\\Project\\MLOPs\\Chicken_disease_classification\\chicken\\lib\\site-packages\\IPython\\core\\async_helpers.py\", line 129, in _pseudo_sync_runner\n",
      "    coro.send(None)\n",
      "  File \"e:\\Project\\MLOPs\\Chicken_disease_classification\\chicken\\lib\\site-packages\\IPython\\core\\interactiveshell.py\", line 3269, in run_cell_async\n",
      "    has_raised = await self.run_ast_nodes(code_ast.body, cell_name,\n",
      "  File \"e:\\Project\\MLOPs\\Chicken_disease_classification\\chicken\\lib\\site-packages\\IPython\\core\\interactiveshell.py\", line 3448, in run_ast_nodes\n",
      "    if await self.run_code(code, result, async_=asy):\n",
      "  File \"e:\\Project\\MLOPs\\Chicken_disease_classification\\chicken\\lib\\site-packages\\IPython\\core\\interactiveshell.py\", line 3508, in run_code\n",
      "    exec(code_obj, self.user_global_ns, self.user_ns)\n",
      "  File \"C:\\Users\\KUSHAL\\AppData\\Local\\Temp\\ipykernel_17684\\3360446389.py\", line 3, in <module>\n",
      "    logger.info(\"c =\", c)\n",
      "Message: 'c ='\n",
      "Arguments: (0.0,)\n"
     ]
    }
   ],
   "source": [
    "try:\n",
    "    c = b/a\n",
    "    logger.info(\"c =\", c)\n",
    "\n",
    "except Exception as e:\n",
    "    raise CDCException(error_message=e, error_detail=sys)"
   ]
  }
 ],
 "metadata": {
  "kernelspec": {
   "display_name": "Python 3",
   "language": "python",
   "name": "python3"
  },
  "language_info": {
   "codemirror_mode": {
    "name": "ipython",
    "version": 3
   },
   "file_extension": ".py",
   "mimetype": "text/x-python",
   "name": "python",
   "nbconvert_exporter": "python",
   "pygments_lexer": "ipython3",
   "version": "3.8.0"
  },
  "orig_nbformat": 4
 },
 "nbformat": 4,
 "nbformat_minor": 2
}
