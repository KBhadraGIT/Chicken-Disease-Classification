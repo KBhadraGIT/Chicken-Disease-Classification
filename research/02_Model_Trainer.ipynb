{
 "cells": [
  {
   "attachments": {},
   "cell_type": "markdown",
   "metadata": {},
   "source": [
    "## MODEL TRAINING"
   ]
  },
  {
   "cell_type": "code",
   "execution_count": 1,
   "metadata": {},
   "outputs": [],
   "source": [
    "import os"
   ]
  },
  {
   "cell_type": "code",
   "execution_count": 2,
   "metadata": {},
   "outputs": [
    {
     "data": {
      "text/plain": [
       "'e:\\\\Project\\\\MLOPs\\\\Chicken_disease_classification\\\\research'"
      ]
     },
     "execution_count": 2,
     "metadata": {},
     "output_type": "execute_result"
    }
   ],
   "source": [
    "%pwd"
   ]
  },
  {
   "cell_type": "code",
   "execution_count": 3,
   "metadata": {},
   "outputs": [],
   "source": [
    "os.chdir(\"../\")"
   ]
  },
  {
   "cell_type": "code",
   "execution_count": 4,
   "metadata": {},
   "outputs": [
    {
     "data": {
      "text/plain": [
       "'e:\\\\Project\\\\MLOPs\\\\Chicken_disease_classification'"
      ]
     },
     "execution_count": 4,
     "metadata": {},
     "output_type": "execute_result"
    }
   ],
   "source": [
    "%pwd"
   ]
  },
  {
   "attachments": {},
   "cell_type": "markdown",
   "metadata": {},
   "source": [
    "### 1. Entity for Model Training"
   ]
  },
  {
   "cell_type": "code",
   "execution_count": 5,
   "metadata": {},
   "outputs": [],
   "source": [
    "from dataclasses import dataclass\n",
    "from pathlib import Path\n",
    "\n",
    "#This will be the entity variables\n",
    "@dataclass(frozen=True)\n",
    "class ModelTrainerConfig:\n",
    "    root_dir: Path\n",
    "    base_model_path: Path\n",
    "    trained_model_path: Path\n",
    "    params_image_size: list\n",
    "    params_learning_rate: float\n",
    "    params_include_top: bool\n",
    "    params_weights: str\n",
    "    params_classes: int"
   ]
  },
  {
   "attachments": {},
   "cell_type": "markdown",
   "metadata": {},
   "source": [
    "### 2. Creating configuration for Model Training"
   ]
  },
  {
   "cell_type": "code",
   "execution_count": 11,
   "metadata": {},
   "outputs": [],
   "source": [
    "from chicken_disease import *\n",
    "from chicken_disease.constants import *\n",
    "from chicken_disease.utils import (read_yaml, \n",
    "                                  create_directories)"
   ]
  },
  {
   "cell_type": "code",
   "execution_count": 7,
   "metadata": {},
   "outputs": [],
   "source": [
    "class ConfigurationManager:\n",
    "    def __init__(self,\n",
    "                 config_filepath = CONFIG_FILE_PATH,\n",
    "                 params_filepath = PARAMS_FILE_PATH):\n",
    "        \"\"\"\n",
    "        Initializes a ConfigurationManager instance.\n",
    "\n",
    "        Args:\n",
    "            config_filepath (str, optional): The file path to the configuration file.\n",
    "                Defaults to CONFIG_FILE_PATH.\n",
    "            params_filepath (str, optional): The file path to the parameters file.\n",
    "                Defaults to PARAMS_FILE_PATH.\n",
    "        \"\"\"\n",
    "\n",
    "        self.config = read_yaml(config_filepath)\n",
    "        self.params = read_yaml(params_filepath)\n",
    "        create_directories([self.config.artifacts_root])\n",
    "\n",
    "\n",
    "    def get_model_trainer_config(self) -> ModelTrainerConfig:\n",
    "        \"\"\"\n",
    "        Retrieves the model trainer configuration.\n",
    "\n",
    "        Returns:\n",
    "            ModelTrainerConfig: The configuration object for the model trainer.\n",
    "        \"\"\"\n",
    "        \n",
    "        config = self.config.model_trainer\n",
    "        \n",
    "        create_directories([config.root_dir])\n",
    "\n",
    "        model_trainer_config = ModelTrainerConfig(root_dir=Path(config.root_dir),\n",
    "                                                  base_model_path=Path(config.base_model_path),\n",
    "                                                  trained_model_path=Path(config.trained_model_path),\n",
    "                                                  params_image_size=self.params.IMAGE_SIZE,\n",
    "                                                  params_learning_rate=self.params.LEARNING_RATE,\n",
    "                                                  params_include_top=self.params.INCLUDE_TOP,\n",
    "                                                  params_weights=self.params.WEIGHTS,\n",
    "                                                  params_classes=self.params.CLASSES)\n",
    "\n",
    "        return model_trainer_config\n"
   ]
  },
  {
   "attachments": {},
   "cell_type": "markdown",
   "metadata": {},
   "source": [
    "### 3. Train on the base model(VGG16)"
   ]
  },
  {
   "cell_type": "code",
   "execution_count": 8,
   "metadata": {},
   "outputs": [],
   "source": [
    "import tensorflow as tf"
   ]
  },
  {
   "cell_type": "code",
   "execution_count": 9,
   "metadata": {},
   "outputs": [],
   "source": [
    "class ModelTrainer:\n",
    "    def __init__(self, \n",
    "                 config: ModelTrainerConfig,):\n",
    "        \"\"\"\n",
    "        Initializes a ModelTrainer object.\n",
    "\n",
    "        Args:\n",
    "            config (ModelTrainerConfig): The configuration object containing parameters for the model trainer.\n",
    "        \"\"\"\n",
    "\n",
    "        self.config = config\n",
    "   \n",
    "    def fetch_base_model(self):\n",
    "        \"\"\"\n",
    "        Fetches the base model for training.\n",
    "\n",
    "        This method loads the base model, specified in the configuration, using the provided parameters.\n",
    "        The model is then saved to the specified path in the configuration.\n",
    "        \"\"\"\n",
    "\n",
    "        self.model = tf.keras.applications.vgg16.VGG16(input_shape=self.config.params_image_size,\n",
    "                                                       weights=self.config.params_weights,\n",
    "                                                       include_top=self.config.params_include_top,)\n",
    "\n",
    "        self.save_model(path=self.config.base_model_path, \n",
    "                        model=self.model,)\n",
    "    \n",
    "    @staticmethod\n",
    "    def train_base_model(model, classes, freeze_all, freeze_till, learning_rate,):\n",
    "        \"\"\"\n",
    "        Trains the base model.\n",
    "\n",
    "        This method takes a base model, specified by the 'model' parameter, and performs training on it.\n",
    "        The training can include freezing specific layers based on the provided parameters.\n",
    "        The resulting trained model is compiled and returned.\n",
    "\n",
    "        Args:\n",
    "            model (tf.keras.Model): The base model to train.\n",
    "            classes (int): The number of classes for classification.\n",
    "            freeze_all (bool): Whether to freeze all layers of the model.\n",
    "            freeze_till (int): Number of layers to freeze starting from the end. If None, no layers are frozen.\n",
    "            learning_rate (float): The learning rate for the optimizer.\n",
    "\n",
    "        Returns:\n",
    "            tf.keras.Model: The trained model.\n",
    "        \"\"\"\n",
    "        if freeze_all:\n",
    "            for layer in model.layers:\n",
    "                model.trainable = False\n",
    "\n",
    "        elif (freeze_till is not None) and (freeze_till > 0):\n",
    "            for layer in model.layers[:-freeze_till]:\n",
    "                model.trainable = False\n",
    "\n",
    "        flatten_in = tf.keras.layers.Flatten()(model.output)\n",
    "\n",
    "        prediction = tf.keras.layers.Dense(units=classes,\n",
    "                                           activation=\"softmax\")(flatten_in)\n",
    "\n",
    "        trained_model = tf.keras.models.Model(inputs=model.input,\n",
    "                                           outputs=prediction)\n",
    "\n",
    "        trained_model.compile(optimizer=tf.keras.optimizers.SGD(learning_rate=learning_rate),\n",
    "                              loss=tf.keras.losses.CategoricalCrossentropy(),\n",
    "                              metrics=[\"accuracy\"])\n",
    "\n",
    "        trained_model.summary()\n",
    "        return trained_model    \n",
    "\n",
    "    def base_model_trainer(self):\n",
    "        \"\"\"\n",
    "        Trains the base model specified in the configuration.\n",
    "\n",
    "        This method trains the base model by calling the 'train_base_model' method with the appropriate parameters.\n",
    "        The resulting trained model is saved to the specified path in the configuration.\n",
    "        \"\"\"\n",
    "\n",
    "        self.trained_model = self.train_base_model(model=self.model,\n",
    "                                                   classes=self.config.params_classes,\n",
    "                                                   freeze_all=True,\n",
    "                                                   freeze_till=None,\n",
    "                                                   learning_rate=self.config.params_learning_rate,)\n",
    "\n",
    "        self.save_model(path=self.config.trained_model_path, \n",
    "                        model=self.trained_model,)\n",
    "    \n",
    "    @staticmethod\n",
    "    def save_model(path: Path, model: tf.keras.Model):\n",
    "        \"\"\"\n",
    "        Saves a Keras model to a specified path.\n",
    "\n",
    "        Args:\n",
    "            path (Path): The path to save the model.\n",
    "            model (tf.keras.Model): The Keras model to save.\n",
    "        \"\"\"\n",
    "        \n",
    "        model.save(path)"
   ]
  },
  {
   "attachments": {},
   "cell_type": "markdown",
   "metadata": {},
   "source": [
    "### 4. Model Trainer pipeline"
   ]
  },
  {
   "cell_type": "code",
   "execution_count": 14,
   "metadata": {},
   "outputs": [
    {
     "name": "stdout",
     "output_type": "stream",
     "text": [
      "Model: \"model_1\"\n",
      "_________________________________________________________________\n",
      " Layer (type)                Output Shape              Param #   \n",
      "=================================================================\n",
      " input_2 (InputLayer)        [(None, 224, 224, 3)]     0         \n",
      "                                                                 \n",
      " block1_conv1 (Conv2D)       (None, 224, 224, 64)      1792      \n",
      "                                                                 \n",
      " block1_conv2 (Conv2D)       (None, 224, 224, 64)      36928     \n",
      "                                                                 \n",
      " block1_pool (MaxPooling2D)  (None, 112, 112, 64)      0         \n",
      "                                                                 \n",
      " block2_conv1 (Conv2D)       (None, 112, 112, 128)     73856     \n",
      "                                                                 \n",
      " block2_conv2 (Conv2D)       (None, 112, 112, 128)     147584    \n",
      "                                                                 \n",
      " block2_pool (MaxPooling2D)  (None, 56, 56, 128)       0         \n",
      "                                                                 \n",
      " block3_conv1 (Conv2D)       (None, 56, 56, 256)       295168    \n",
      "                                                                 \n",
      " block3_conv2 (Conv2D)       (None, 56, 56, 256)       590080    \n",
      "                                                                 \n",
      " block3_conv3 (Conv2D)       (None, 56, 56, 256)       590080    \n",
      "                                                                 \n",
      " block3_pool (MaxPooling2D)  (None, 28, 28, 256)       0         \n",
      "                                                                 \n",
      " block4_conv1 (Conv2D)       (None, 28, 28, 512)       1180160   \n",
      "                                                                 \n",
      " block4_conv2 (Conv2D)       (None, 28, 28, 512)       2359808   \n",
      "                                                                 \n",
      " block4_conv3 (Conv2D)       (None, 28, 28, 512)       2359808   \n",
      "                                                                 \n",
      " block4_pool (MaxPooling2D)  (None, 14, 14, 512)       0         \n",
      "                                                                 \n",
      " block5_conv1 (Conv2D)       (None, 14, 14, 512)       2359808   \n",
      "                                                                 \n",
      " block5_conv2 (Conv2D)       (None, 14, 14, 512)       2359808   \n",
      "                                                                 \n",
      " block5_conv3 (Conv2D)       (None, 14, 14, 512)       2359808   \n",
      "                                                                 \n",
      " block5_pool (MaxPooling2D)  (None, 7, 7, 512)         0         \n",
      "                                                                 \n",
      " flatten_1 (Flatten)         (None, 25088)             0         \n",
      "                                                                 \n",
      " dense_1 (Dense)             (None, 2)                 50178     \n",
      "                                                                 \n",
      "=================================================================\n",
      "Total params: 14,764,866\n",
      "Trainable params: 50,178\n",
      "Non-trainable params: 14,714,688\n",
      "_________________________________________________________________\n"
     ]
    }
   ],
   "source": [
    "try:\n",
    "    config = ConfigurationManager()\n",
    "    model_trainer_config = config.get_model_trainer_config()\n",
    "    model_trainer = ModelTrainer(config = model_trainer_config)\n",
    "    model_trainer.fetch_base_model()\n",
    "    model_trainer.base_model_trainer()\n",
    "except Exception as e:\n",
    "        logger.exception(CDCException(error_message=e, error_detail=sys))\n",
    "        CDCException(error_message=e, error_detail=sys)"
   ]
  },
  {
   "cell_type": "code",
   "execution_count": null,
   "metadata": {},
   "outputs": [],
   "source": []
  }
 ],
 "metadata": {
  "kernelspec": {
   "display_name": "chicken",
   "language": "python",
   "name": "python3"
  },
  "language_info": {
   "codemirror_mode": {
    "name": "ipython",
    "version": 3
   },
   "file_extension": ".py",
   "mimetype": "text/x-python",
   "name": "python",
   "nbconvert_exporter": "python",
   "pygments_lexer": "ipython3",
   "version": "3.8.0"
  },
  "orig_nbformat": 4
 },
 "nbformat": 4,
 "nbformat_minor": 2
}
